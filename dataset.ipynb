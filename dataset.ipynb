{
 "cells": [
  {
   "cell_type": "markdown",
   "metadata": {},
   "source": [
    "In this notebook I create the tables I'm gonna use for the recommender systems and compute some statistics in order to better understand the dataset I'm working with."
   ]
  },
  {
   "cell_type": "code",
   "execution_count": 1,
   "metadata": {},
   "outputs": [],
   "source": [
    "import pandas as pd\n",
    "import matplotlib.pyplot as plt\n",
    "import numpy as np\n"
   ]
  },
  {
   "cell_type": "markdown",
   "metadata": {},
   "source": [
    "I start importing the users table, removing the columns I don't need and banned users."
   ]
  },
  {
   "cell_type": "code",
   "execution_count": 4,
   "metadata": {},
   "outputs": [],
   "source": [
    "users = pd.read_csv(\"database/telegrambot_user.csv\")\n",
    "users.drop(\n",
    "    columns=[\"reputation\", \"warn_count\", \"permissions_level\", \"last_seen\"], inplace=True\n",
    ")\n",
    "users = users[users.banned == \"f\"]\n",
    "users.drop(columns=\"banned\", inplace=True)\n",
    "users.rename({\"id\": \"user_id\"}, inplace=True, axis=1)\n",
    "users.to_pickle(\"users.pkl\")\n"
   ]
  },
  {
   "cell_type": "markdown",
   "metadata": {},
   "source": [
    "Then I do the same for the groups table, removing the groups I don't want to recommend."
   ]
  },
  {
   "cell_type": "code",
   "execution_count": 5,
   "metadata": {},
   "outputs": [],
   "source": [
    "groups = pd.read_csv(\"database/telegrambot_group.csv\")\n",
    "groups.drop(\n",
    "    columns=[\n",
    "        \"profile_picture\",\n",
    "        \"invite_link\",\n",
    "        \"owner_id\",\n",
    "        \"bot_id\",\n",
    "        \"welcome_model\",\n",
    "        \"ignore_admin_tagging\",\n",
    "        \"description\",\n",
    "    ],\n",
    "    inplace=True,\n",
    ")\n",
    "groups.rename({\"id\": \"group_id\"}, inplace=True, axis=1)\n",
    "to_delete = [\n",
    "    -1001394272076,\n",
    "    -1001586960044,\n",
    "    -1001581680126,\n",
    "    -1001317570364,\n",
    "    -1001597995872,\n",
    "    -1001399541270,\n",
    "    -1001374431808,\n",
    "    -1001429342185,\n",
    "    -1001314188573,\n",
    "    -1001161201627,\n",
    "]\n",
    "groups = groups[~(groups.group_id.isin(to_delete))]\n",
    "groups.to_pickle(\"groups.pickle\")\n"
   ]
  },
  {
   "cell_type": "markdown",
   "metadata": {},
   "source": [
    "Group membership is the table that links each user with each group in which he has been (including the groups he has left). I remove userbots from it."
   ]
  },
  {
   "cell_type": "code",
   "execution_count": 6,
   "metadata": {},
   "outputs": [
    {
     "data": {
      "text/html": [
       "<div>\n",
       "<style scoped>\n",
       "    .dataframe tbody tr th:only-of-type {\n",
       "        vertical-align: middle;\n",
       "    }\n",
       "\n",
       "    .dataframe tbody tr th {\n",
       "        vertical-align: top;\n",
       "    }\n",
       "\n",
       "    .dataframe thead th {\n",
       "        text-align: right;\n",
       "    }\n",
       "</style>\n",
       "<table border=\"1\" class=\"dataframe\">\n",
       "  <thead>\n",
       "    <tr style=\"text-align: right;\">\n",
       "      <th></th>\n",
       "      <th>user_id</th>\n",
       "      <th>first_name</th>\n",
       "      <th>last_name</th>\n",
       "      <th>username</th>\n",
       "      <th>id</th>\n",
       "      <th>group_id</th>\n",
       "      <th>last_seen</th>\n",
       "      <th>messages_count</th>\n",
       "      <th>status</th>\n",
       "      <th>title</th>\n",
       "    </tr>\n",
       "  </thead>\n",
       "  <tbody>\n",
       "    <tr>\n",
       "      <th>190</th>\n",
       "      <td>350313104</td>\n",
       "      <td>Alessia</td>\n",
       "      <td>NaN</td>\n",
       "      <td>aleceres</td>\n",
       "      <td>3112</td>\n",
       "      <td>-1001568744489</td>\n",
       "      <td>2021-09-13 21:34:00.243643+00</td>\n",
       "      <td>3</td>\n",
       "      <td>member</td>\n",
       "      <td>Bioinformatics for computational genomics</td>\n",
       "    </tr>\n",
       "    <tr>\n",
       "      <th>1802</th>\n",
       "      <td>350313104</td>\n",
       "      <td>Alessia</td>\n",
       "      <td>NaN</td>\n",
       "      <td>aleceres</td>\n",
       "      <td>14052</td>\n",
       "      <td>-1001461601993</td>\n",
       "      <td>2021-10-13 18:17:29.48649+00</td>\n",
       "      <td>2</td>\n",
       "      <td>member</td>\n",
       "      <td>Tirocini e tesi - StudentiUniMi</td>\n",
       "    </tr>\n",
       "    <tr>\n",
       "      <th>2018</th>\n",
       "      <td>350313104</td>\n",
       "      <td>Alessia</td>\n",
       "      <td>NaN</td>\n",
       "      <td>aleceres</td>\n",
       "      <td>16395</td>\n",
       "      <td>-1001405226631</td>\n",
       "      <td>2021-11-15 13:24:07.170593+00</td>\n",
       "      <td>3</td>\n",
       "      <td>member</td>\n",
       "      <td>Videogame Design and Programming</td>\n",
       "    </tr>\n",
       "    <tr>\n",
       "      <th>2203</th>\n",
       "      <td>350313104</td>\n",
       "      <td>Alessia</td>\n",
       "      <td>NaN</td>\n",
       "      <td>aleceres</td>\n",
       "      <td>17326</td>\n",
       "      <td>-1001342690802</td>\n",
       "      <td>2022-04-02 17:21:46.070376+00</td>\n",
       "      <td>7</td>\n",
       "      <td>administrator</td>\n",
       "      <td>Bioinformatics - Informatica magistrale</td>\n",
       "    </tr>\n",
       "    <tr>\n",
       "      <th>3196</th>\n",
       "      <td>350313104</td>\n",
       "      <td>Alessia</td>\n",
       "      <td>NaN</td>\n",
       "      <td>aleceres</td>\n",
       "      <td>16341</td>\n",
       "      <td>-1001357462160</td>\n",
       "      <td>2022-04-02 17:21:45.456724+00</td>\n",
       "      <td>9</td>\n",
       "      <td>administrator</td>\n",
       "      <td>Fisica - Informatica</td>\n",
       "    </tr>\n",
       "  </tbody>\n",
       "</table>\n",
       "</div>"
      ],
      "text/plain": [
       "        user_id first_name last_name  username     id       group_id  \\\n",
       "190   350313104    Alessia       NaN  aleceres   3112 -1001568744489   \n",
       "1802  350313104    Alessia       NaN  aleceres  14052 -1001461601993   \n",
       "2018  350313104    Alessia       NaN  aleceres  16395 -1001405226631   \n",
       "2203  350313104    Alessia       NaN  aleceres  17326 -1001342690802   \n",
       "3196  350313104    Alessia       NaN  aleceres  16341 -1001357462160   \n",
       "\n",
       "                          last_seen  messages_count         status  \\\n",
       "190   2021-09-13 21:34:00.243643+00               3         member   \n",
       "1802   2021-10-13 18:17:29.48649+00               2         member   \n",
       "2018  2021-11-15 13:24:07.170593+00               3         member   \n",
       "2203  2022-04-02 17:21:46.070376+00               7  administrator   \n",
       "3196  2022-04-02 17:21:45.456724+00               9  administrator   \n",
       "\n",
       "                                          title  \n",
       "190   Bioinformatics for computational genomics  \n",
       "1802            Tirocini e tesi - StudentiUniMi  \n",
       "2018           Videogame Design and Programming  \n",
       "2203    Bioinformatics - Informatica magistrale  \n",
       "3196                       Fisica - Informatica  "
      ]
     },
     "execution_count": 6,
     "metadata": {},
     "output_type": "execute_result"
    }
   ],
   "source": [
    "group_membership = pd.read_csv(\"database/telegrambot_groupmembership.csv\")\n",
    "df_membership = users.merge(group_membership, on=[\"user_id\"]).merge(\n",
    "    groups, on=[\"group_id\"]\n",
    ")\n",
    "df_membership = df_membership[df_membership.status != \"kicked\"]\n",
    "df_membership = df_membership[df_membership.username != \"studentiunimibot\"]\n",
    "df_membership = df_membership[df_membership.username != \"areyouseeingthistoo\"]\n",
    "pd.to_pickle(df_membership, \"df_membership.pkl\")\n",
    "df_membership[df_membership.username == \"aleceres\"].head()\n"
   ]
  },
  {
   "cell_type": "markdown",
   "metadata": {},
   "source": [
    "I compute some statistics in order to better understand the dataset. Here is the description of the number of groups in which each user is: on average, a user is in around 3 groups with a standard deviation of 5, but with the presence of outliers (users in around 100 groups)."
   ]
  },
  {
   "cell_type": "code",
   "execution_count": 67,
   "metadata": {},
   "outputs": [
    {
     "data": {
      "text/plain": [
       "count    2948.000000\n",
       "mean        3.912822\n",
       "std         4.774117\n",
       "min         1.000000\n",
       "25%         1.000000\n",
       "50%         2.000000\n",
       "75%         5.000000\n",
       "max       119.000000\n",
       "Name: group_id, dtype: float64"
      ]
     },
     "execution_count": 67,
     "metadata": {},
     "output_type": "execute_result"
    }
   ],
   "source": [
    "groups_per_user = (\n",
    "    df_membership[df_membership.status != \"left\"]\n",
    "    .groupby(by=[\"user_id\", \"username\"])\n",
    "    .count()[\"group_id\"]\n",
    "    .sort_values(ascending=False)\n",
    ")\n",
    "groups_per_user.describe()\n"
   ]
  },
  {
   "cell_type": "markdown",
   "metadata": {},
   "source": [
    "On the x axis, I have the number of groups; on the y axis, the percentage of users that are in that number of groups. Also here we can see that most of the users tend to be in a range of 1 to 15 groups."
   ]
  },
  {
   "cell_type": "code",
   "execution_count": 68,
   "metadata": {},
   "outputs": [
    {
     "data": {
      "text/plain": [
       "Text(0, 0.5, 'percentage of users')"
      ]
     },
     "execution_count": 68,
     "metadata": {},
     "output_type": "execute_result"
    },
    {
     "data": {
      "image/png": "[encoded data removed]",
      "text/plain": [
       "<Figure size 432x288 with 1 Axes>"
      ]
     },
     "metadata": {
      "needs_background": "light"
     },
     "output_type": "display_data"
    }
   ],
   "source": [
    "plt.hist(groups_per_user, weights=np.ones(len(groups_per_user)) / len(groups_per_user))\n",
    "plt.xlabel(\"number of groups\")\n",
    "plt.ylabel(\"percentage of users\")\n"
   ]
  },
  {
   "cell_type": "markdown",
   "metadata": {},
   "source": [
    "I compute similar statistics for the number of users per group. Here we can see the 5 most popular groups."
   ]
  },
  {
   "cell_type": "code",
   "execution_count": 14,
   "metadata": {},
   "outputs": [
    {
     "data": {
      "text/plain": [
       "group_id        title                                                                            \n",
       "-1001456212600  Chat | Studenti UniMi                                                                1002\n",
       "-1001260565113  Compravendita libri e appunti - StudentiUniMi                                         713\n",
       "-1001157628331  Programmazione 1 - Informatica, Informatica Musicale, Informatica per la Com Dig.     435\n",
       "-1001461601993  Tirocini e tesi - StudentiUniMi                                                       430\n",
       "-1001348138483  Annunci di lavoro - StudentiUniMi                                                     338\n",
       "Name: user_id, dtype: int64"
      ]
     },
     "execution_count": 14,
     "metadata": {},
     "output_type": "execute_result"
    }
   ],
   "source": [
    "users_per_group = (\n",
    "    df_membership[df_membership.status != \"left\"]\n",
    "    .groupby(by=[\"group_id\", \"title\"])\n",
    "    .count()[\"user_id\"]\n",
    "    .sort_values(ascending=False)[:20]\n",
    ")\n",
    "users_per_group[:5]\n"
   ]
  },
  {
   "cell_type": "markdown",
   "metadata": {},
   "source": [
    "Here we can visualize the statistics related to the number of users per group: the distribution is less uniform than the previous one."
   ]
  },
  {
   "cell_type": "code",
   "execution_count": 15,
   "metadata": {},
   "outputs": [
    {
     "data": {
      "text/plain": [
       "Text(0, 0.5, 'percentage of groups')"
      ]
     },
     "execution_count": 15,
     "metadata": {},
     "output_type": "execute_result"
    },
    {
     "data": {
      "image/png": "[encoded data removed]",
      "text/plain": [
       "<Figure size 432x288 with 1 Axes>"
      ]
     },
     "metadata": {
      "needs_background": "light"
     },
     "output_type": "display_data"
    }
   ],
   "source": [
    "plt.hist(users_per_group, weights=np.ones(len(users_per_group)) / len(users_per_group))\n",
    "plt.xlabel(\"number of users\")\n",
    "plt.ylabel(\"percentage of groups\")\n"
   ]
  },
  {
   "cell_type": "markdown",
   "metadata": {},
   "source": [
    "I also create a trainset and a testset, which I will use to evaluate the recommender systems later."
   ]
  },
  {
   "cell_type": "code",
   "execution_count": 7,
   "metadata": {},
   "outputs": [],
   "source": [
    "df_membership.sort_values(by = ['last_seen'], inplace = True)\n",
    "testset = df_membership[(df_membership.messages_count >= 3) & (df_membership.messages_count <800)]\n",
    "testset = testset.drop_duplicates(subset = ['user_id'], keep = 'last')\n",
    "\n",
    "train_set = df_membership.drop(list(testset.index))\n",
    "testset = testset[testset.user_id.isin(train_set.user_id)]\n",
    "\n",
    "train_set.to_pickle(\"trainset.pkl\")\n",
    "testset.to_pickle(\"testset.pkl\")"
   ]
  }
 ],
 "metadata": {
  "interpreter": {
   "hash": "949777d72b0d2535278d3dc13498b2535136f6dfe0678499012e853ee9abcab1"
  },
  "kernelspec": {
   "display_name": "Python 3.9.12 64-bit",
   "language": "python",
   "name": "python3"
  },
  "language_info": {
   "codemirror_mode": {
    "name": "ipython",
    "version": 3
   },
   "file_extension": ".py",
   "mimetype": "text/x-python",
   "name": "python",
   "nbconvert_exporter": "python",
   "pygments_lexer": "ipython3",
   "version": "3.9.12"
  },
  "orig_nbformat": 4
 },
 "nbformat": 4,
 "nbformat_minor": 2
}
